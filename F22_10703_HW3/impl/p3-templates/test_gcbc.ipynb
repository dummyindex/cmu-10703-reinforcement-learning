{
 "cells": [
  {
   "cell_type": "code",
   "execution_count": 1,
   "metadata": {},
   "outputs": [
    {
     "name": "stderr",
     "output_type": "stream",
     "text": [
      "/Users/random/opt/anaconda3/envs/10703-hw/lib/python3.8/site-packages/tqdm/auto.py:22: TqdmWarning: IProgress not found. Please update jupyter and ipywidgets. See https://ipywidgets.readthedocs.io/en/stable/user_install.html\n",
      "  from .autonotebook import tqdm as notebook_tqdm\n"
     ]
    }
   ],
   "source": [
    "from GCBC import *\n",
    "import numpy as np"
   ]
  },
  {
   "cell_type": "code",
   "execution_count": 2,
   "metadata": {},
   "outputs": [
    {
     "data": {
      "image/png": "[encoded data removed]",
      "text/plain": [
       "<Figure size 1000x1000 with 25 Axes>"
      ]
     },
     "metadata": {},
     "output_type": "display_data"
    }
   ],
   "source": [
    "l, T = 5, 30\n",
    "env = FourRooms(l, T)\n",
    "env.reset()\n",
    "\n",
    "# # test shortest traj\n",
    "# print(\"env action space: \", env.action_space)\n",
    "# print(\"env map: \", env.map)\n",
    "# env.s = np.array([1, 1], dtype=int)\n",
    "# env.g = np.array([0, 8], dtype=int)\n",
    "# print(\"env sample goal\", env.g)\n",
    "# print(\"env sample state\", env.s)\n",
    "# test shortest traj\n",
    "# shortest_traj, shortest_actions = compute_shortest_path(env)\n",
    "# print(\"shortest_traj: \", shortest_traj)\n",
    "# print(\"shortest_actions: \", shortest_actions)\n",
    "expert_trajs, expert_actions =  shortest_path_expert(env, render=True);\n"
   ]
  },
  {
   "cell_type": "code",
   "execution_count": 3,
   "metadata": {},
   "outputs": [
    {
     "name": "stdout",
     "output_type": "stream",
     "text": [
      "**************************************************\n",
      "seed: 0\n",
      "total train samples: 7415\n"
     ]
    },
    {
     "name": "stderr",
     "output_type": "stream",
     "text": [
      "  1%|          | 1/150 [02:07<5:16:32, 127.46s/it]"
     ]
    },
    {
     "name": "stdout",
     "output_type": "stream",
     "text": [
      "0 1.163 0.496 0.08\n"
     ]
    },
    {
     "name": "stderr",
     "output_type": "stream",
     "text": [
      "  1%|▏         | 2/150 [04:14<5:14:15, 127.40s/it]"
     ]
    },
    {
     "name": "stdout",
     "output_type": "stream",
     "text": [
      "1 0.935 0.703 0.24\n"
     ]
    },
    {
     "name": "stderr",
     "output_type": "stream",
     "text": [
      "  2%|▏         | 3/150 [06:22<5:12:03, 127.37s/it]"
     ]
    },
    {
     "name": "stdout",
     "output_type": "stream",
     "text": [
      "2 0.765 0.76 0.4\n"
     ]
    },
    {
     "name": "stderr",
     "output_type": "stream",
     "text": [
      "  3%|▎         | 4/150 [08:29<5:09:39, 127.26s/it]"
     ]
    },
    {
     "name": "stdout",
     "output_type": "stream",
     "text": [
      "3 0.669 0.782 0.52\n"
     ]
    },
    {
     "name": "stderr",
     "output_type": "stream",
     "text": [
      "  3%|▎         | 5/150 [10:36<5:07:18, 127.16s/it]"
     ]
    },
    {
     "name": "stdout",
     "output_type": "stream",
     "text": [
      "4 0.605 0.802 0.5\n"
     ]
    }
   ],
   "source": [
    "# gcbc = GCBC(expert_trajs=expert_trajs, expert_actions=expert_actions, env=env)\n",
    "# gcbc.generate_behavior_cloning_data()\n",
    "# gcbc.train(num_epochs=20)\n",
    "# run_GCBC(expert_trajs, expert_actions, env, num_seeds=2, num_iters=1, num_epochs=1, mode=\"vanilla\", batch_size=2048, num_workers=1)\n",
    "run_GCBC(expert_trajs, expert_actions, env, num_seeds=5, num_iters=150, num_epochs=20, mode=\"vanilla\", batch_size=2048, num_workers=1)\n"
   ]
  },
  {
   "cell_type": "code",
   "execution_count": null,
   "metadata": {},
   "outputs": [],
   "source": [
    "run_GCBC(expert_trajs, expert_actions, env, num_seeds=5, num_iters=1500, num_epochs=1, mode=\"vanilla\", batch_size=2048, num_workers=1)"
   ]
  }
 ],
 "metadata": {
  "kernelspec": {
   "display_name": "Python 3.8.13 ('10703-hw')",
   "language": "python",
   "name": "python3"
  },
  "language_info": {
   "codemirror_mode": {
    "name": "ipython",
    "version": 3
   },
   "file_extension": ".py",
   "mimetype": "text/x-python",
   "name": "python",
   "nbconvert_exporter": "python",
   "pygments_lexer": "ipython3",
   "version": "3.8.13"
  },
  "orig_nbformat": 4,
  "vscode": {
   "interpreter": {
    "hash": "51c41c940a13a987c7382d3d8c68101ea878bd8fbf915a8f3710aa34d9014c32"
   }
  }
 },
 "nbformat": 4,
 "nbformat_minor": 2
}
