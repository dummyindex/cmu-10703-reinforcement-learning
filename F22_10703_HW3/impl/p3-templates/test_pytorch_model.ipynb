{
 "cells": [
  {
   "cell_type": "code",
   "execution_count": 1,
   "metadata": {},
   "outputs": [
    {
     "name": "stderr",
     "output_type": "stream",
     "text": [
      "/Users/random/opt/anaconda3/envs/10703-hw/lib/python3.8/site-packages/tqdm/auto.py:22: TqdmWarning: IProgress not found. Please update jupyter and ipywidgets. See https://ipywidgets.readthedocs.io/en/stable/user_install.html\n",
      "  from .autonotebook import tqdm as notebook_tqdm\n"
     ]
    },
    {
     "name": "stdout",
     "output_type": "stream",
     "text": [
      "(0) loss= 0.639; accuracy = 63.1%\n",
      "(1) loss= 0.514; accuracy = 77.7%\n",
      "(2) loss= 0.403; accuracy = 85.2%\n",
      "(3) loss= 0.371; accuracy = 89.1%\n",
      "(4) loss= 0.321; accuracy = 92.3%\n",
      "(5) loss= 0.269; accuracy = 94.9%\n",
      "(6) loss= 0.206; accuracy = 96.5%\n",
      "(7) loss= 0.191; accuracy = 97.2%\n",
      "(8) loss= 0.170; accuracy = 98.6%\n",
      "(9) loss= 0.145; accuracy = 98.7%\n",
      "(10) loss= 0.124; accuracy = 99.0%\n",
      "(11) loss= 0.154; accuracy = 99.3%\n",
      "(12) loss= 0.120; accuracy = 99.1%\n",
      "(13) loss= 0.101; accuracy = 98.9%\n",
      "(14) loss= 0.111; accuracy = 99.4%\n",
      "(15) loss= 0.095; accuracy = 99.5%\n",
      "(16) loss= 0.098; accuracy = 99.8%\n",
      "(17) loss= 0.082; accuracy = 99.1%\n",
      "(18) loss= 0.064; accuracy = 99.4%\n",
      "(19) loss= 0.088; accuracy = 99.7%\n"
     ]
    }
   ],
   "source": [
    "from model_pytorch import *\n",
    "test_model()"
   ]
  }
 ],
 "metadata": {
  "kernelspec": {
   "display_name": "Python 3.8.13 ('10703-hw')",
   "language": "python",
   "name": "python3"
  },
  "language_info": {
   "codemirror_mode": {
    "name": "ipython",
    "version": 3
   },
   "file_extension": ".py",
   "mimetype": "text/x-python",
   "name": "python",
   "nbconvert_exporter": "python",
   "pygments_lexer": "ipython3",
   "version": "3.8.13"
  },
  "orig_nbformat": 4,
  "vscode": {
   "interpreter": {
    "hash": "51c41c940a13a987c7382d3d8c68101ea878bd8fbf915a8f3710aa34d9014c32"
   }
  }
 },
 "nbformat": 4,
 "nbformat_minor": 2
}
