{
 "cells": [
  {
   "cell_type": "code",
   "execution_count": 5,
   "metadata": {},
   "outputs": [],
   "source": [
    "import a2c\n",
    "import gym\n",
    "import torch"
   ]
  },
  {
   "cell_type": "code",
   "execution_count": 6,
   "metadata": {},
   "outputs": [
    {
     "name": "stdout",
     "output_type": "stream",
     "text": [
      "Training with Reinforce.\n"
     ]
    },
    {
     "data": {
      "text/plain": [
       "([array([-0.02638893,  0.04096145, -0.04231221, -0.00429941]),\n",
       "  array([-0.02556971,  0.23666387, -0.04239819, -0.31002639]),\n",
       "  array([-0.02083643,  0.43236344, -0.04859872, -0.61577328]),\n",
       "  array([-0.01218916,  0.6281295 , -0.06091419, -0.92335805]),\n",
       "  array([ 3.73430377e-04,  8.24019134e-01, -7.93813479e-02, -1.23454523e+00]),\n",
       "  array([ 0.01685381,  1.02006664, -0.10407225, -1.55100406]),\n",
       "  array([ 0.03725515,  1.21627164, -0.13509233, -1.87426121]),\n",
       "  array([ 0.06158058,  1.41258539, -0.17257756, -2.20564533])],\n",
       " [1, 1, 1, 1, 1, 1, 1, 1],\n",
       " [1.0, 1.0, 1.0, 1.0, 1.0, 1.0, 1.0, 1.0])"
      ]
     },
     "execution_count": 6,
     "metadata": {},
     "output_type": "execute_result"
    }
   ],
   "source": [
    "env = gym.make('CartPole-v0')\n",
    "a2c_net = a2c.a2c.A2C(N=100, nA=2, actor=a2c.net.NeuralNet(4, 2, torch.nn.functional.softmax), critic=a2c.NeuralNet(4, 2, torch.nn.functional.softmax), actor_lr=5e-4, critic_lr=1e-4, type=\"Reinforce\")\n",
    "\n",
    "a2c_net.generate_episode(env, render=True)\n"
   ]
  },
  {
   "cell_type": "code",
   "execution_count": 7,
   "metadata": {},
   "outputs": [
    {
     "name": "stdout",
     "output_type": "stream",
     "text": [
      "tensor([0.4500, 0.5500], grad_fn=<SoftmaxBackward0>)\n",
      "tensor([0.0760, 0.9240], grad_fn=<SoftmaxBackward0>)\n"
     ]
    }
   ],
   "source": [
    "s0 = [ 0.03666531,  0.0214262 ,  0.01976534, -0.01147768]\n",
    "print(a2c_net.actor(torch.Tensor(s0)))\n",
    "for _ in range(100):\n",
    "    a2c_net.train(env)\n",
    "print(a2c_net.actor(torch.Tensor(s0)))"
   ]
  },
  {
   "cell_type": "code",
   "execution_count": 8,
   "metadata": {},
   "outputs": [
    {
     "data": {
      "text/plain": [
       "9.4"
      ]
     },
     "execution_count": 8,
     "metadata": {},
     "output_type": "execute_result"
    }
   ],
   "source": [
    "a2c_net.evaluate_policy_episodes(env, num_episodes=100).mean()"
   ]
  }
 ],
 "metadata": {
  "kernelspec": {
   "display_name": "Python 3.8.13 ('10703-hw')",
   "language": "python",
   "name": "python3"
  },
  "language_info": {
   "codemirror_mode": {
    "name": "ipython",
    "version": 3
   },
   "file_extension": ".py",
   "mimetype": "text/x-python",
   "name": "python",
   "nbconvert_exporter": "python",
   "pygments_lexer": "ipython3",
   "version": "3.8.13"
  },
  "orig_nbformat": 4,
  "vscode": {
   "interpreter": {
    "hash": "51c41c940a13a987c7382d3d8c68101ea878bd8fbf915a8f3710aa34d9014c32"
   }
  }
 },
 "nbformat": 4,
 "nbformat_minor": 2
}
