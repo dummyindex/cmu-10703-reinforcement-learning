{
 "cells": [
  {
   "cell_type": "code",
   "execution_count": 1,
   "metadata": {},
   "outputs": [
    {
     "name": "stderr",
     "output_type": "stream",
     "text": [
      "/Users/random/opt/anaconda3/envs/10703-hw/lib/python3.8/site-packages/tqdm/auto.py:22: TqdmWarning: IProgress not found. Please update jupyter and ipywidgets. See https://ipywidgets.readthedocs.io/en/stable/user_install.html\n",
      "  from .autonotebook import tqdm as notebook_tqdm\n"
     ]
    }
   ],
   "source": [
    "import dqn \n",
    "dqn = dqn.dqn"
   ]
  },
  {
   "cell_type": "code",
   "execution_count": 2,
   "metadata": {},
   "outputs": [],
   "source": [
    "agent = dqn.DQN_Agent(environment_name='CartPole-v0',)"
   ]
  },
  {
   "cell_type": "code",
   "execution_count": 3,
   "metadata": {},
   "outputs": [],
   "source": [
    "agent.burn_in_memory()"
   ]
  },
  {
   "cell_type": "code",
   "execution_count": 4,
   "metadata": {},
   "outputs": [
    {
     "data": {
      "text/plain": [
       "10000"
      ]
     },
     "execution_count": 4,
     "metadata": {},
     "output_type": "execute_result"
    }
   ],
   "source": [
    "len(agent.memory.memory)"
   ]
  },
  {
   "cell_type": "code",
   "execution_count": 5,
   "metadata": {},
   "outputs": [
    {
     "name": "stdout",
     "output_type": "stream",
     "text": [
      "(0.1420574524256985, 0.25910786238708783, -0.14666618567173606, -0.5679413083040667)\n",
      "(0.1420574524256985, 0.25910786238708783, -0.14666618567173606, -0.5679413083040667)\n",
      "(0.14723960967344027, 0.06631457697455631, -0.1580250118378174, -0.32482161962356537)\n"
     ]
    }
   ],
   "source": [
    "s0 = agent.env.state\n",
    "print(s0)\n",
    "agent.env.step(0)\n",
    "print(s0)\n",
    "print(agent.env.state)"
   ]
  },
  {
   "cell_type": "code",
   "execution_count": 6,
   "metadata": {},
   "outputs": [
    {
     "name": "stderr",
     "output_type": "stream",
     "text": [
      "  0%|          | 0/200 [00:00<?, ?it/s]/Users/random/cmu-10703-reinforcement-learning/F22_10703_Homework_2/hw2_impl/pytorch/dqn/dqn.py:76: UserWarning: To copy construct from a tensor, it is recommended to use sourceTensor.clone().detach() or sourceTensor.clone().detach().requires_grad_(True), rather than torch.tensor(sourceTensor).\n",
      "  state = torch.tensor(state).float()\n",
      "100%|██████████| 200/200 [02:23<00:00,  1.40it/s]\n"
     ]
    },
    {
     "data": {
      "text/plain": [
       "([0,\n",
       "  10,\n",
       "  20,\n",
       "  30,\n",
       "  40,\n",
       "  50,\n",
       "  60,\n",
       "  70,\n",
       "  80,\n",
       "  90,\n",
       "  100,\n",
       "  110,\n",
       "  120,\n",
       "  130,\n",
       "  140,\n",
       "  150,\n",
       "  160,\n",
       "  170,\n",
       "  180,\n",
       "  190],\n",
       " [9.3,\n",
       "  9.55,\n",
       "  9.4,\n",
       "  9.45,\n",
       "  9.2,\n",
       "  9.3,\n",
       "  9.4,\n",
       "  9.45,\n",
       "  18.35,\n",
       "  89.35,\n",
       "  72.4,\n",
       "  112.9,\n",
       "  121.85,\n",
       "  92.2,\n",
       "  92.75,\n",
       "  110.9,\n",
       "  142.6,\n",
       "  170.5,\n",
       "  177.2,\n",
       "  169.7])"
      ]
     },
     "execution_count": 6,
     "metadata": {},
     "output_type": "execute_result"
    }
   ],
   "source": [
    "agent.train(max_episode_T=50)"
   ]
  }
 ],
 "metadata": {
  "kernelspec": {
   "display_name": "Python 3.8.13 ('10703-hw')",
   "language": "python",
   "name": "python3"
  },
  "language_info": {
   "codemirror_mode": {
    "name": "ipython",
    "version": 3
   },
   "file_extension": ".py",
   "mimetype": "text/x-python",
   "name": "python",
   "nbconvert_exporter": "python",
   "pygments_lexer": "ipython3",
   "version": "3.8.13"
  },
  "orig_nbformat": 4,
  "vscode": {
   "interpreter": {
    "hash": "51c41c940a13a987c7382d3d8c68101ea878bd8fbf915a8f3710aa34d9014c32"
   }
  }
 },
 "nbformat": 4,
 "nbformat_minor": 2
}
