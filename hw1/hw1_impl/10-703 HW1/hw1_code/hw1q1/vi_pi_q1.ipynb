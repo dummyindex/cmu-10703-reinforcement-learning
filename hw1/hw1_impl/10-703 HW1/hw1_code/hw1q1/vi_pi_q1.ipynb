{
 "cells": [
  {
   "cell_type": "code",
   "execution_count": 1,
   "metadata": {},
   "outputs": [],
   "source": [
    "import example\n",
    "\n",
    "example.main()"
   ]
  }
 ],
 "metadata": {
  "kernelspec": {
   "display_name": "Python 3.8.13 ('10703-hw')",
   "language": "python",
   "name": "python3"
  },
  "language_info": {
   "codemirror_mode": {
    "name": "ipython",
    "version": 3
   },
   "file_extension": ".py",
   "mimetype": "text/x-python",
   "name": "python",
   "nbconvert_exporter": "python",
   "pygments_lexer": "ipython3",
   "version": "3.8.13"
  },
  "orig_nbformat": 4,
  "vscode": {
   "interpreter": {
    "hash": "e27e90a569968fbfb09f307bda32fbba698919c30a17b3c05c908f46ea75ae23"
   }
  }
 },
 "nbformat": 4,
 "nbformat_minor": 2
}
