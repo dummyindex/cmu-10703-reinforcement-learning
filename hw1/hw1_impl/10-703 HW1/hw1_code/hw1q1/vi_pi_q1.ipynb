{
 "cells": [
  {
   "cell_type": "code",
   "execution_count": 1,
   "metadata": {},
   "outputs": [],
   "source": [
    "import gym\n",
    "import lake_envs as lake_env\n",
    "import time\n",
    "import numpy as np\n",
    "from example import *\n",
    "import pi_vi\n"
   ]
  },
  {
   "cell_type": "code",
   "execution_count": 2,
   "metadata": {},
   "outputs": [
    {
     "name": "stdout",
     "output_type": "stream",
     "text": [
      "Environment has 16 states and 4 actions.\n",
      "According to transition function, taking action DOWN(1) in state 0 leads to 1 possible outcomes\n",
      "\tTransitioning to non-terminal state 4 with probability 1.000000 and reward 0.000000\n",
      "According to transition function, taking action DOWN(1) in state 1 leads to 1 possible outcomes\n",
      "\tTransitioning to terminal state 1 with probability 1.000000 and reward 0.000000\n",
      "According to transition function, taking action RIGHT(2) in state 14 leads to 1 possible outcomes\n",
      "\tTransitioning to non-terminal state 15 with probability 1.000000 and reward 0.000000\n"
     ]
    }
   ],
   "source": [
    "def gen_env(env_name):\n",
    "    env = gym.make(env_name)\n",
    "    env.seed(0)\n",
    "    return env\n",
    "\n",
    "\n",
    "env = gen_env('Deterministic-4x4-FrozenLake-v0')\n",
    "\n",
    "print_env_info(env)\n",
    "print_model_info(env, 0, lake_env.DOWN)\n",
    "print_model_info(env, 1, lake_env.DOWN)\n",
    "print_model_info(env, 14, lake_env.RIGHT)\n"
   ]
  },
  {
   "cell_type": "markdown",
   "metadata": {},
   "source": [
    "## Random Policy"
   ]
  },
  {
   "cell_type": "code",
   "execution_count": 3,
   "metadata": {},
   "outputs": [],
   "source": [
    "# env = gym.make('Deterministic-4x4-FrozenLake-v0')\n",
    "\n",
    "# initial_state = env.reset()\n",
    "# env.render()\n",
    "# time.sleep(1)  # just pauses so you can see the output\n",
    "\n",
    "# total_reward = 0\n",
    "# num_steps = 0\n",
    "# while True:\n",
    "#     nextstate, reward, is_terminal, debug_info = env.step(\n",
    "#         env.action_space.sample())\n",
    "#     env.render()\n",
    "\n",
    "#     total_reward += reward\n",
    "#     num_steps += 1\n",
    "\n",
    "#     if is_terminal:\n",
    "#         break\n",
    "\n",
    "#     time.sleep(1)\n",
    "\n",
    "# print('Agent received total reward of: %f' % total_reward)\n",
    "# print('Agent took %d steps' % num_steps)\n",
    "# total_reward, num_steps\n"
   ]
  },
  {
   "cell_type": "markdown",
   "metadata": {},
   "source": [
    "## Syncronous Policy Iteration"
   ]
  },
  {
   "cell_type": "code",
   "execution_count": 4,
   "metadata": {},
   "outputs": [
    {
     "name": "stdout",
     "output_type": "stream",
     "text": [
      "init_state:  2\n",
      "\n",
      "FH\u001b[41mS\u001b[0mF\n",
      "FGHF\n",
      "FHHF\n",
      "FFFF\n"
     ]
    },
    {
     "data": {
      "text/plain": [
       "{0: [(1.0, 1, 0.0, True)],\n",
       " 1: [(1.0, 6, 0.0, True)],\n",
       " 2: [(1.0, 3, 0.0, False)],\n",
       " 3: [(1.0, 2, 0.0, False)]}"
      ]
     },
     "execution_count": 4,
     "metadata": {},
     "output_type": "execute_result"
    }
   ],
   "source": [
    "init_state = env.reset()\n",
    "print(\"init_state: \", init_state)\n",
    "env.render()\n",
    "env.P[0][lake_env.RIGHT]\n",
    "env.P[2]\n"
   ]
  },
  {
   "cell_type": "code",
   "execution_count": 6,
   "metadata": {},
   "outputs": [
    {
     "name": "stdout",
     "output_type": "stream",
     "text": [
      "\n",
      "FH\u001b[41mS\u001b[0mF\n",
      "FGHF\n",
      "FHHF\n",
      "FFFF\n",
      "running policy:  sync\n",
      "state_value_func [0.28203308 0.70437214 0.99731502 0.18390477 0.12039772 0.85877675\n",
      " 0.59111776 0.01441719 0.7477361  0.2866088  0.98353769 0.0642197\n",
      " 0.14057045 0.88346219 0.60394994 0.38302195]\n",
      "init policy:  [1 1 0 0 1 1 0 3 1 0 3 2 3 0 0 2]\n",
      "total_policy_eval_steps:  69\n",
      "DLLL\n",
      "RLLD\n",
      "ULLL\n",
      "LRDL\n",
      "Agent took 0 steps\n",
      "\n",
      "FFFFF\u001b[41mS\u001b[0mFF\n",
      "FFFFFFFF\n",
      "HHHHHHFF\n",
      "FFFFFFFF\n",
      "FFFFFFFF\n",
      "FHFFFHHF\n",
      "FHFFHFHH\n",
      "FGFFFFFF\n",
      "running policy:  sync\n",
      "state_value_func [0.52357245 0.7384395  0.08569746 0.25806306 0.83926862 0.70621489\n",
      " 0.79357495 0.58651699 0.66109424 0.02557766 0.64370375 0.05604332\n",
      " 0.19149663 0.80353431 0.78137993 0.98095827 0.13951127 0.36533298\n",
      " 0.00640548 0.19389375 0.72844557 0.68512997 0.85873323 0.8897893\n",
      " 0.02027582 0.33859497 0.52315463 0.57520781 0.45188135 0.65967701\n",
      " 0.63807731 0.35534521 0.99856174 0.7372217  0.4542029  0.9974565\n",
      " 0.37080502 0.89095988 0.298228   0.3083465  0.77233969 0.96550263\n",
      " 0.58852203 0.03014639 0.66298992 0.423838   0.35194439 0.17435306\n",
      " 0.28877574 0.55673169 0.36911747 0.19884155 0.61382872 0.90483721\n",
      " 0.66413222 0.23089752 0.13410457 0.13116217 0.59995666 0.70030508\n",
      " 0.05963068 0.44446625 0.89172012 0.94760322]\n",
      "init policy:  [2 0 1 3 1 3 3 0 0 3 1 0 0 3 1 1 1 3 0 0 0 1 1 2 2 0 0 0 3 3 3 3 3 2 1 2 1\n",
      " 3 1 0 1 3 0 3 1 2 2 1 0 0 0 1 2 3 1 2 2 2 1 1 0 3 2 2]\n",
      "total_policy_eval_steps:  110\n",
      "LLLDDDDL\n",
      "LLRRRRDL\n",
      "LLLLLLDL\n",
      "DLDLLLLL\n",
      "DLDLLLLL\n",
      "DLDLLLLU\n",
      "DLDLLDLL\n",
      "RLLLLLLL\n",
      "Agent took 0 steps\n"
     ]
    },
    {
     "data": {
      "image/png": "[encoded data removed]",
      "text/plain": [
       "<Figure size 700x600 with 2 Axes>"
      ]
     },
     "metadata": {},
     "output_type": "display_data"
    },
    {
     "data": {
      "image/png": "[encoded data removed]",
      "text/plain": [
       "<Figure size 700x600 with 2 Axes>"
      ]
     },
     "metadata": {},
     "output_type": "display_data"
    }
   ],
   "source": [
    "from pi_vi import SYNC, ASYNC_ORDERD, ASYNC_PERM\n",
    "\n",
    "def run_policy_trial(env, policy_type=SYNC):\n",
    "    initial_state = env.reset()\n",
    "    env.render()\n",
    "    time.sleep(1)  # just pauses so you can see the output\n",
    "    total_reward = 0\n",
    "    num_steps = 0\n",
    "\n",
    "    # initialization\n",
    "    gamma = 0.9\n",
    "    tol = 1e-3\n",
    "\n",
    "    print(\"running policy: \", policy_type)\n",
    "    if policy_type == SYNC:\n",
    "        state_policy, state_value_func, num_imrpovements, total_policy_eval_steps = pi_vi.policy_iteration_sync(\n",
    "            env, gamma, max_iterations=int(1e3), tol=tol)\n",
    "    elif policy_type == ASYNC_ORDERD:\n",
    "        state_policy, state_value_func, num_imrpovements, total_policy_eval_steps = pi_vi.policy_iteration_async_ordered(\n",
    "            env, gamma, max_iterations=int(1e3), tol=tol)\n",
    "    elif policy_type == ASYNC_PERM:\n",
    "        state_policy, state_value_func, num_imrpovements, total_policy_eval_steps = pi_vi.policy_iteration_async_randperm(\n",
    "            env, gamma, max_iterations=int(1e3), tol=tol)\n",
    "    print(\"total_policy_eval_steps: \", total_policy_eval_steps)\n",
    "    pi_vi.display_policy_letters(env, np.array(state_policy))\n",
    "    pi_vi.value_func_heatmap(env, state_value_func)\n",
    "    print('Agent took %d steps' % num_steps)\n",
    "\n",
    "\n",
    "env_4x4 = gym.make('Deterministic-4x4-FrozenLake-v0')\n",
    "env_8x8 = gym.make('Deterministic-8x8-FrozenLake-v0')\n",
    "\n",
    "run_policy_trial(env_4x4, policy_type=SYNC)\n",
    "run_policy_trial(env_8x8, policy_type=SYNC)\n",
    "\n",
    "# run_policy_trial(env_4x4, policy_type=ASYNC_ORDERD)\n",
    "# run_policy_trial(env_8x8, policy_type=ASYNC_ORDERD)\n"
   ]
  }
 ],
 "metadata": {
  "kernelspec": {
   "display_name": "Python 3.8.13 ('10703-hw')",
   "language": "python",
   "name": "python3"
  },
  "language_info": {
   "codemirror_mode": {
    "name": "ipython",
    "version": 3
   },
   "file_extension": ".py",
   "mimetype": "text/x-python",
   "name": "python",
   "nbconvert_exporter": "python",
   "pygments_lexer": "ipython3",
   "version": "3.8.13"
  },
  "orig_nbformat": 4,
  "vscode": {
   "interpreter": {
    "hash": "51c41c940a13a987c7382d3d8c68101ea878bd8fbf915a8f3710aa34d9014c32"
   }
  }
 },
 "nbformat": 4,
 "nbformat_minor": 2
}
