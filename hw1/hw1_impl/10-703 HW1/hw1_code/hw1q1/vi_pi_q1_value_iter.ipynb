{
 "cells": [
  {
   "cell_type": "code",
   "execution_count": 1,
   "metadata": {},
   "outputs": [],
   "source": [
    "import gym\n",
    "import lake_envs as lake_env\n",
    "import time\n",
    "import numpy as np\n",
    "from example import *\n",
    "import pi_vi\n"
   ]
  },
  {
   "cell_type": "code",
   "execution_count": 2,
   "metadata": {},
   "outputs": [
    {
     "name": "stdout",
     "output_type": "stream",
     "text": [
      "Environment has 16 states and 4 actions.\n",
      "According to transition function, taking action DOWN(1) in state 0 leads to 1 possible outcomes\n",
      "\tTransitioning to non-terminal state 4 with probability 1.000000 and reward 0.000000\n",
      "According to transition function, taking action DOWN(1) in state 1 leads to 1 possible outcomes\n",
      "\tTransitioning to terminal state 1 with probability 1.000000 and reward 0.000000\n",
      "According to transition function, taking action RIGHT(2) in state 14 leads to 1 possible outcomes\n",
      "\tTransitioning to non-terminal state 15 with probability 1.000000 and reward 0.000000\n"
     ]
    }
   ],
   "source": [
    "def gen_env(env_name):\n",
    "    env = gym.make(env_name)\n",
    "    env.seed(0)\n",
    "    return env\n",
    "\n",
    "\n",
    "env = gen_env('Deterministic-4x4-FrozenLake-v0')\n",
    "\n",
    "print_env_info(env)\n",
    "print_model_info(env, 0, lake_env.DOWN)\n",
    "print_model_info(env, 1, lake_env.DOWN)\n",
    "print_model_info(env, 14, lake_env.RIGHT)\n"
   ]
  },
  {
   "cell_type": "markdown",
   "metadata": {},
   "source": [
    "## Random Policy"
   ]
  },
  {
   "cell_type": "code",
   "execution_count": 3,
   "metadata": {},
   "outputs": [],
   "source": [
    "# env = gym.make('Deterministic-4x4-FrozenLake-v0')\n",
    "\n",
    "# initial_state = env.reset()\n",
    "# env.render()\n",
    "# time.sleep(1)  # just pauses so you can see the output\n",
    "\n",
    "# total_reward = 0\n",
    "# num_steps = 0\n",
    "# while True:\n",
    "#     nextstate, reward, is_terminal, debug_info = env.step(\n",
    "#         env.action_space.sample())\n",
    "#     env.render()\n",
    "\n",
    "#     total_reward += reward\n",
    "#     num_steps += 1\n",
    "\n",
    "#     if is_terminal:\n",
    "#         break\n",
    "\n",
    "#     time.sleep(1)\n",
    "\n",
    "# print('Agent received total reward of: %f' % total_reward)\n",
    "# print('Agent took %d steps' % num_steps)\n",
    "# total_reward, num_steps\n"
   ]
  },
  {
   "cell_type": "markdown",
   "metadata": {},
   "source": [
    "## Syncronous Policy Iteration"
   ]
  },
  {
   "cell_type": "code",
   "execution_count": 4,
   "metadata": {},
   "outputs": [
    {
     "name": "stdout",
     "output_type": "stream",
     "text": [
      "init_state:  2\n",
      "\n",
      "FH\u001b[41mS\u001b[0mF\n",
      "FGHF\n",
      "FHHF\n",
      "FFFF\n"
     ]
    },
    {
     "data": {
      "text/plain": [
       "{0: [(1.0, 1, 0.0, True)],\n",
       " 1: [(1.0, 6, 0.0, True)],\n",
       " 2: [(1.0, 3, 0.0, False)],\n",
       " 3: [(1.0, 2, 0.0, False)]}"
      ]
     },
     "execution_count": 4,
     "metadata": {},
     "output_type": "execute_result"
    }
   ],
   "source": [
    "init_state = env.reset()\n",
    "print(\"init_state: \", init_state)\n",
    "env.render()\n",
    "env.P[0][lake_env.RIGHT]\n",
    "env.P[2]\n"
   ]
  },
  {
   "cell_type": "code",
   "execution_count": 5,
   "metadata": {},
   "outputs": [],
   "source": [
    "from pi_vi import SYNC, ASYNC_ORDERD, ASYNC_PERM, ASYNC_MANHATTAN\n",
    "\n",
    "\n",
    "def run_value_iter_trial(env, policy_type=SYNC):\n",
    "    initial_state = env.reset()\n",
    "    env.render()\n",
    "    time.sleep(1)  # just pauses so you can see the output\n",
    "    total_reward = 0\n",
    "    num_steps = 0\n",
    "\n",
    "    # initialization\n",
    "    gamma = 0.9\n",
    "    tol = 1e-3\n",
    "\n",
    "    print(\"running policy: \", policy_type)\n",
    "    if policy_type == SYNC:\n",
    "        state_value_func, num_steps, policy = pi_vi.value_iteration_sync(\n",
    "            env, gamma, max_iterations=int(1e3), tol=tol)\n",
    "    elif policy_type == ASYNC_ORDERD:\n",
    "        state_value_func, num_steps, policy = pi_vi.value_iteration_async_ordered(\n",
    "            env, gamma, max_iterations=int(1e3), tol=tol)\n",
    "    elif policy_type == ASYNC_PERM:\n",
    "        state_value_func, num_steps, policy = pi_vi.value_iteration_async_randperm(\n",
    "            env, gamma, max_iterations=int(1e3), tol=tol)\n",
    "    elif policy_type == ASYNC_MANHATTAN:\n",
    "        state_value_func, num_steps, policy = pi_vi.value_iteration_async_custom(\n",
    "            env, gamma, max_iterations=int(1e3), tol=tol)\n",
    "    else:\n",
    "        raise NotImplemented\n",
    "\n",
    "    pi_vi.display_policy_letters(env, policy)\n",
    "    pi_vi.value_func_heatmap(env, state_value_func)\n",
    "    print('Agent took %d steps' % num_steps)\n",
    "\n",
    "\n",
    "env_4x4 = gym.make('Deterministic-4x4-FrozenLake-v0')\n",
    "env_8x8 = gym.make('Deterministic-8x8-FrozenLake-v0')\n",
    "\n"
   ]
  },
  {
   "cell_type": "code",
   "execution_count": 6,
   "metadata": {},
   "outputs": [
    {
     "name": "stdout",
     "output_type": "stream",
     "text": [
      "\n",
      "FH\u001b[41mS\u001b[0mF\n",
      "FGHF\n",
      "FHHF\n",
      "FFFF\n",
      "running policy:  sync\n"
     ]
    },
    {
     "ename": "KeyboardInterrupt",
     "evalue": "",
     "output_type": "error",
     "traceback": [
      "\u001b[0;31m---------------------------------------------------------------------------\u001b[0m",
      "\u001b[0;31mKeyboardInterrupt\u001b[0m                         Traceback (most recent call last)",
      "Cell \u001b[0;32mIn [6], line 1\u001b[0m\n\u001b[0;32m----> 1\u001b[0m \u001b[43mrun_value_iter_trial\u001b[49m\u001b[43m(\u001b[49m\u001b[43menv_4x4\u001b[49m\u001b[43m,\u001b[49m\u001b[43m \u001b[49m\u001b[43mpolicy_type\u001b[49m\u001b[38;5;241;43m=\u001b[39;49m\u001b[43mSYNC\u001b[49m\u001b[43m)\u001b[49m\n\u001b[1;32m      2\u001b[0m run_value_iter_trial(env_8x8, policy_type\u001b[38;5;241m=\u001b[39mSYNC)\n",
      "Cell \u001b[0;32mIn [5], line 17\u001b[0m, in \u001b[0;36mrun_value_iter_trial\u001b[0;34m(env, policy_type)\u001b[0m\n\u001b[1;32m     15\u001b[0m \u001b[38;5;28mprint\u001b[39m(\u001b[38;5;124m\"\u001b[39m\u001b[38;5;124mrunning policy: \u001b[39m\u001b[38;5;124m\"\u001b[39m, policy_type)\n\u001b[1;32m     16\u001b[0m \u001b[38;5;28;01mif\u001b[39;00m policy_type \u001b[38;5;241m==\u001b[39m SYNC:\n\u001b[0;32m---> 17\u001b[0m     state_value_func, num_steps, policy \u001b[38;5;241m=\u001b[39m \u001b[43mpi_vi\u001b[49m\u001b[38;5;241;43m.\u001b[39;49m\u001b[43mvalue_iteration_sync\u001b[49m\u001b[43m(\u001b[49m\n\u001b[1;32m     18\u001b[0m \u001b[43m        \u001b[49m\u001b[43menv\u001b[49m\u001b[43m,\u001b[49m\u001b[43m \u001b[49m\u001b[43mgamma\u001b[49m\u001b[43m,\u001b[49m\u001b[43m \u001b[49m\u001b[43mmax_iterations\u001b[49m\u001b[38;5;241;43m=\u001b[39;49m\u001b[38;5;28;43mint\u001b[39;49m\u001b[43m(\u001b[49m\u001b[38;5;241;43m1e3\u001b[39;49m\u001b[43m)\u001b[49m\u001b[43m,\u001b[49m\u001b[43m \u001b[49m\u001b[43mtol\u001b[49m\u001b[38;5;241;43m=\u001b[39;49m\u001b[43mtol\u001b[49m\u001b[43m)\u001b[49m\n\u001b[1;32m     19\u001b[0m \u001b[38;5;28;01melif\u001b[39;00m policy_type \u001b[38;5;241m==\u001b[39m ASYNC_ORDERD:\n\u001b[1;32m     20\u001b[0m     state_value_func, num_steps, policy \u001b[38;5;241m=\u001b[39m pi_vi\u001b[38;5;241m.\u001b[39mvalue_iteration_async_ordered(\n\u001b[1;32m     21\u001b[0m         env, gamma, max_iterations\u001b[38;5;241m=\u001b[39m\u001b[38;5;28mint\u001b[39m(\u001b[38;5;241m1e3\u001b[39m), tol\u001b[38;5;241m=\u001b[39mtol)\n",
      "File \u001b[0;32m~/cmu-10703-reinforcement-learning/hw1/hw1_impl/10-703 HW1/hw1_code/hw1q1/pi_vi.py:503\u001b[0m, in \u001b[0;36mvalue_iteration_sync\u001b[0;34m(env, gamma, max_iterations, tol)\u001b[0m\n\u001b[1;32m    483\u001b[0m \u001b[39mdef\u001b[39;00m \u001b[39mvalue_iteration_sync\u001b[39m(env, gamma, max_iterations\u001b[39m=\u001b[39m\u001b[39mint\u001b[39m(\u001b[39m1e3\u001b[39m), tol\u001b[39m=\u001b[39m\u001b[39m1e-3\u001b[39m):\n\u001b[1;32m    484\u001b[0m     \u001b[39m\"\"\"Runs value iteration for a given gamma and environment.\u001b[39;00m\n\u001b[1;32m    485\u001b[0m \n\u001b[1;32m    486\u001b[0m \u001b[39m    Parameters\u001b[39;00m\n\u001b[0;32m   (...)\u001b[0m\n\u001b[1;32m    501\u001b[0m \u001b[39m      The value function and the number of iterations it took to converge.\u001b[39;00m\n\u001b[1;32m    502\u001b[0m \u001b[39m    \"\"\"\u001b[39;00m\n\u001b[0;32m--> 503\u001b[0m     \u001b[39mreturn\u001b[39;00m value_iteration_general(env, gamma, max_iterations\u001b[39m=\u001b[39;49mmax_iterations, tol\u001b[39m=\u001b[39;49mtol, is_sync\u001b[39m=\u001b[39;49m\u001b[39mTrue\u001b[39;49;00m, state_order\u001b[39m=\u001b[39;49m\u001b[39m\"\u001b[39;49m\u001b[39mordered\u001b[39;49m\u001b[39m\"\u001b[39;49m)\n",
      "File \u001b[0;32m~/cmu-10703-reinforcement-learning/hw1/hw1_impl/10-703 HW1/hw1_code/hw1q1/pi_vi.py:462\u001b[0m, in \u001b[0;36mvalue_iteration_general\u001b[0;34m(env, gamma, max_iterations, tol, is_sync, state_order)\u001b[0m\n\u001b[1;32m    460\u001b[0m new_value \u001b[39m=\u001b[39m \u001b[39m0\u001b[39m\n\u001b[1;32m    461\u001b[0m \u001b[39mfor\u001b[39;00m p, nextstate, reward, _ \u001b[39min\u001b[39;00m env\u001b[39m.\u001b[39mP[state][action]:\n\u001b[0;32m--> 462\u001b[0m   new_value \u001b[39m+\u001b[39m\u001b[39m=\u001b[39m p \u001b[39m*\u001b[39m (reward \u001b[39m+\u001b[39m gamma \u001b[39m*\u001b[39;49m value_func[nextstate])\n\u001b[1;32m    463\u001b[0m   \u001b[39mif\u001b[39;00m max_action_val \u001b[39m<\u001b[39m new_value:\n\u001b[1;32m    464\u001b[0m     max_action_val \u001b[39m=\u001b[39m new_value\n",
      "\u001b[0;31mKeyboardInterrupt\u001b[0m: "
     ]
    }
   ],
   "source": [
    "run_value_iter_trial(env_4x4, policy_type=SYNC)\n",
    "run_value_iter_trial(env_8x8, policy_type=SYNC)\n"
   ]
  },
  {
   "cell_type": "code",
   "execution_count": null,
   "metadata": {},
   "outputs": [],
   "source": [
    "run_value_iter_trial(env_4x4, policy_type=ASYNC_ORDERD)\n",
    "run_value_iter_trial(env_8x8, policy_type=ASYNC_ORDERD)\n"
   ]
  },
  {
   "cell_type": "code",
   "execution_count": null,
   "metadata": {},
   "outputs": [],
   "source": [
    "run_value_iter_trial(env_4x4, policy_type=ASYNC_PERM)\n",
    "run_value_iter_trial(env_8x8, policy_type=ASYNC_PERM)"
   ]
  },
  {
   "cell_type": "code",
   "execution_count": null,
   "metadata": {},
   "outputs": [],
   "source": [
    "run_value_iter_trial(env_4x4, policy_type=ASYNC_MANHATTAN)\n",
    "run_value_iter_trial(env_8x8, policy_type=ASYNC_MANHATTAN)\n"
   ]
  },
  {
   "cell_type": "code",
   "execution_count": null,
   "metadata": {},
   "outputs": [
    {
     "data": {
      "text/plain": [
       "1"
      ]
     },
     "execution_count": 6,
     "metadata": {},
     "output_type": "execute_result"
    }
   ],
   "source": [
    "def manhatten_dist(s1, s2, nc):\n",
    "    r1, c1 = s1 // nc, s1 % nc\n",
    "    r2, c2 = s2 // nc, s2 % nc\n",
    "    return abs(r1 - r2) + abs(c1 - c2)\n",
    "\n",
    "manhatten_dist(0, 4, 4)\n"
   ]
  }
 ],
 "metadata": {
  "kernelspec": {
   "display_name": "Python 3.8.13 ('10703-hw')",
   "language": "python",
   "name": "python3"
  },
  "language_info": {
   "codemirror_mode": {
    "name": "ipython",
    "version": 3
   },
   "file_extension": ".py",
   "mimetype": "text/x-python",
   "name": "python",
   "nbconvert_exporter": "python",
   "pygments_lexer": "ipython3",
   "version": "3.8.13"
  },
  "orig_nbformat": 4,
  "vscode": {
   "interpreter": {
    "hash": "51c41c940a13a987c7382d3d8c68101ea878bd8fbf915a8f3710aa34d9014c32"
   }
  }
 },
 "nbformat": 4,
 "nbformat_minor": 2
}
