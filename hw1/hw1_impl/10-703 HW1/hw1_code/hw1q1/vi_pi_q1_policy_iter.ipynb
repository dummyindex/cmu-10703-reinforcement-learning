{
 "cells": [
  {
   "cell_type": "code",
   "execution_count": 1,
   "metadata": {},
   "outputs": [],
   "source": [
    "import gym\n",
    "import lake_envs as lake_env\n",
    "import time\n",
    "import numpy as np\n",
    "from example import *\n",
    "import pi_vi\n"
   ]
  },
  {
   "cell_type": "code",
   "execution_count": 2,
   "metadata": {},
   "outputs": [
    {
     "name": "stdout",
     "output_type": "stream",
     "text": [
      "Environment has 16 states and 4 actions.\n",
      "According to transition function, taking action DOWN(1) in state 0 leads to 1 possible outcomes\n",
      "\tTransitioning to non-terminal state 4 with probability 1.000000 and reward 0.000000\n",
      "According to transition function, taking action DOWN(1) in state 1 leads to 1 possible outcomes\n",
      "\tTransitioning to terminal state 1 with probability 1.000000 and reward 0.000000\n",
      "According to transition function, taking action RIGHT(2) in state 14 leads to 1 possible outcomes\n",
      "\tTransitioning to non-terminal state 15 with probability 1.000000 and reward 0.000000\n"
     ]
    }
   ],
   "source": [
    "def gen_env(env_name):\n",
    "    env = gym.make(env_name)\n",
    "    env.seed(0)\n",
    "    return env\n",
    "\n",
    "\n",
    "env = gen_env('Deterministic-4x4-FrozenLake-v0')\n",
    "\n",
    "print_env_info(env)\n",
    "print_model_info(env, 0, lake_env.DOWN)\n",
    "print_model_info(env, 1, lake_env.DOWN)\n",
    "print_model_info(env, 14, lake_env.RIGHT)\n"
   ]
  },
  {
   "cell_type": "markdown",
   "metadata": {},
   "source": [
    "## Random Policy"
   ]
  },
  {
   "cell_type": "code",
   "execution_count": 3,
   "metadata": {},
   "outputs": [],
   "source": [
    "# env = gym.make('Deterministic-4x4-FrozenLake-v0')\n",
    "\n",
    "# initial_state = env.reset()\n",
    "# env.render()\n",
    "# time.sleep(1)  # just pauses so you can see the output\n",
    "\n",
    "# total_reward = 0\n",
    "# num_steps = 0\n",
    "# while True:\n",
    "#     nextstate, reward, is_terminal, debug_info = env.step(\n",
    "#         env.action_space.sample())\n",
    "#     env.render()\n",
    "\n",
    "#     total_reward += reward\n",
    "#     num_steps += 1\n",
    "\n",
    "#     if is_terminal:\n",
    "#         break\n",
    "\n",
    "#     time.sleep(1)\n",
    "\n",
    "# print('Agent received total reward of: %f' % total_reward)\n",
    "# print('Agent took %d steps' % num_steps)\n",
    "# total_reward, num_steps\n"
   ]
  },
  {
   "cell_type": "markdown",
   "metadata": {},
   "source": [
    "## Syncronous Policy Iteration"
   ]
  },
  {
   "cell_type": "code",
   "execution_count": 4,
   "metadata": {},
   "outputs": [
    {
     "name": "stdout",
     "output_type": "stream",
     "text": [
      "init_state:  2\n",
      "\n",
      "FH\u001b[41mS\u001b[0mF\n",
      "FGHF\n",
      "FHHF\n",
      "FFFF\n"
     ]
    },
    {
     "data": {
      "text/plain": [
       "{0: [(1.0, 1, 0.0, True)],\n",
       " 1: [(1.0, 6, 0.0, True)],\n",
       " 2: [(1.0, 3, 0.0, False)],\n",
       " 3: [(1.0, 2, 0.0, False)]}"
      ]
     },
     "execution_count": 4,
     "metadata": {},
     "output_type": "execute_result"
    }
   ],
   "source": [
    "init_state = env.reset()\n",
    "print(\"init_state: \", init_state)\n",
    "env.render()\n",
    "env.P[0][lake_env.RIGHT]\n",
    "env.P[2]\n"
   ]
  },
  {
   "cell_type": "code",
   "execution_count": 5,
   "metadata": {},
   "outputs": [
    {
     "name": "stdout",
     "output_type": "stream",
     "text": [
      "\n",
      "FH\u001b[41mS\u001b[0mF\n",
      "FGHF\n",
      "FHHF\n",
      "FFFF\n",
      "running policy:  async_perm\n",
      "state_value_func [0.66956804 0.56505377 0.05778484 0.70793754 0.61818655 0.62101816\n",
      " 0.66008024 0.74842887 0.20630363 0.2626006  0.57962831 0.95455443\n",
      " 0.0961254  0.68772548 0.22906136 0.67094178]\n",
      "init policy:  [3 1 3 2 0 2 0 2 1 3 1 2 1 1 1 3]\n",
      "total_policy_eval_steps:  63\n",
      "DLRD\n",
      "RLLD\n",
      "ULLD\n",
      "ULLL\n",
      "Agent took 0 steps\n",
      "\n",
      "FFFFF\u001b[41mS\u001b[0mFF\n",
      "FFFFFFFF\n",
      "HHHHHHFF\n",
      "FFFFFFFF\n",
      "FFFFFFFF\n",
      "FHFFFHHF\n",
      "FHFFHFHH\n",
      "FGFFFFFF\n",
      "running policy:  async_perm\n",
      "state_value_func [0.13184442 0.43954239 0.02878935 0.73005212 0.18990497 0.91791543\n",
      " 0.59537392 0.96462846 0.58675013 0.22280637 0.21329999 0.83623916\n",
      " 0.95534042 0.79623057 0.21019954 0.99601219 0.47467581 0.85405998\n",
      " 0.24629921 0.63530529 0.1237353  0.55251521 0.44806227 0.09753401\n",
      " 0.48133811 0.742056   0.693313   0.37344393 0.11098861 0.26584768\n",
      " 0.58278991 0.94672543 0.51191848 0.11197478 0.76809189 0.15682673\n",
      " 0.79820014 0.1091505  0.09244446 0.15672376 0.10859144 0.13812913\n",
      " 0.56038989 0.38337289 0.70883986 0.05387522 0.64840633 0.16778562\n",
      " 0.50110778 0.92566093 0.20079822 0.61444502 0.61025135 0.7872394\n",
      " 0.83616895 0.27436919 0.47669689 0.91246436 0.81123174 0.5427616\n",
      " 0.50211443 0.91583832 0.92938633 0.86710468]\n",
      "init policy:  [2 1 0 1 3 3 0 0 0 2 0 3 3 1 3 1 3 0 0 1 0 2 1 1 1 3 2 3 1 1 0 1 3 2 3 1 2\n",
      " 2 1 0 2 3 0 0 0 0 1 1 0 0 1 2 3 3 1 1 1 2 3 1 1 1 2 0]\n",
      "total_policy_eval_steps:  203\n",
      "DDDDDDDL\n",
      "RRRRRRDL\n",
      "LLLLLLDL\n",
      "DLDLLLLL\n",
      "DLDLLLLL\n",
      "DLDLLLLU\n",
      "DLDLLDLL\n",
      "RLLLLLLL\n",
      "Agent took 0 steps\n"
     ]
    },
    {
     "data": {
      "image/png": "[encoded data removed]",
      "text/plain": [
       "<Figure size 700x600 with 2 Axes>"
      ]
     },
     "metadata": {},
     "output_type": "display_data"
    },
    {
     "data": {
      "image/png": "[encoded data removed]",
      "text/plain": [
       "<Figure size 700x600 with 2 Axes>"
      ]
     },
     "metadata": {},
     "output_type": "display_data"
    }
   ],
   "source": [
    "from pi_vi import SYNC, ASYNC_ORDERD, ASYNC_PERM\n",
    "\n",
    "def run_policy_trial(env, policy_type=SYNC):\n",
    "    initial_state = env.reset()\n",
    "    env.render()\n",
    "    time.sleep(1)  # just pauses so you can see the output\n",
    "    total_reward = 0\n",
    "    num_steps = 0\n",
    "\n",
    "    # initialization\n",
    "    gamma = 0.9\n",
    "    tol = 1e-3\n",
    "\n",
    "    print(\"running policy: \", policy_type)\n",
    "    if policy_type == SYNC:\n",
    "        state_policy, state_value_func, num_imrpovements, total_policy_eval_steps = pi_vi.policy_iteration_sync(\n",
    "            env, gamma, max_iterations=int(1e3), tol=tol)\n",
    "    elif policy_type == ASYNC_ORDERD:\n",
    "        state_policy, state_value_func, num_imrpovements, total_policy_eval_steps = pi_vi.policy_iteration_async_ordered(\n",
    "            env, gamma, max_iterations=int(1e3), tol=tol)\n",
    "    elif policy_type == ASYNC_PERM:\n",
    "        state_policy, state_value_func, num_imrpovements, total_policy_eval_steps = pi_vi.policy_iteration_async_randperm(\n",
    "            env, gamma, max_iterations=int(1e3), tol=tol)\n",
    "    print(\"total_policy_eval_steps: \", total_policy_eval_steps)\n",
    "    pi_vi.display_policy_letters(env, np.array(state_policy))\n",
    "    pi_vi.value_func_heatmap(env, state_value_func)\n",
    "    print('Agent took %d steps' % num_steps)\n",
    "\n",
    "\n",
    "env_4x4 = gym.make('Deterministic-4x4-FrozenLake-v0')\n",
    "env_8x8 = gym.make('Deterministic-8x8-FrozenLake-v0')\n",
    "\n",
    "# run_policy_trial(env_4x4, policy_type=SYNC)\n",
    "# run_policy_trial(env_8x8, policy_type=SYNC)\n",
    "\n",
    "# run_policy_trial(env_4x4, policy_type=ASYNC_ORDERD)\n",
    "# run_policy_trial(env_8x8, policy_type=ASYNC_ORDERD)\n",
    "\n",
    "run_policy_trial(env_4x4, policy_type=ASYNC_PERM)\n",
    "run_policy_trial(env_8x8, policy_type=ASYNC_PERM)\n"
   ]
  }
 ],
 "metadata": {
  "kernelspec": {
   "display_name": "Python 3.8.13 ('10703-hw')",
   "language": "python",
   "name": "python3"
  },
  "language_info": {
   "codemirror_mode": {
    "name": "ipython",
    "version": 3
   },
   "file_extension": ".py",
   "mimetype": "text/x-python",
   "name": "python",
   "nbconvert_exporter": "python",
   "pygments_lexer": "ipython3",
   "version": "3.8.13"
  },
  "orig_nbformat": 4,
  "vscode": {
   "interpreter": {
    "hash": "51c41c940a13a987c7382d3d8c68101ea878bd8fbf915a8f3710aa34d9014c32"
   }
  }
 },
 "nbformat": 4,
 "nbformat_minor": 2
}
